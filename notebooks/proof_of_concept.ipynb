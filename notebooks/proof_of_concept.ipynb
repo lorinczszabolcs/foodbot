{
 "metadata": {
  "language_info": {
   "codemirror_mode": {
    "name": "ipython",
    "version": 3
   },
   "file_extension": ".py",
   "mimetype": "text/x-python",
   "name": "python",
   "nbconvert_exporter": "python",
   "pygments_lexer": "ipython3",
   "version": "3.7.0-final"
  },
  "orig_nbformat": 2,
  "kernelspec": {
   "name": "python3",
   "display_name": "Python 3"
  }
 },
 "nbformat": 4,
 "nbformat_minor": 2,
 "cells": [
  {
   "source": [
    "# Proof of concept - Junction 2020\n"
   ],
   "cell_type": "markdown",
   "metadata": {}
  },
  {
   "source": [
    "First install the depedencies and import the needed labriaries"
   ],
   "cell_type": "markdown",
   "metadata": {}
  },
  {
   "cell_type": "code",
   "execution_count": 1,
   "metadata": {},
   "outputs": [
    {
     "output_type": "stream",
     "name": "stdout",
     "text": [
      "Requirement already satisfied: aitoai==0.4.0 in c:\\users\\lszab\\anaconda3\\lib\\site-packages (0.4.0)\nRequirement already satisfied: argcomplete<2.0,>=1.11.1 in c:\\users\\lszab\\anaconda3\\lib\\site-packages (from aitoai==0.4.0) (1.12.1)\nRequirement already satisfied: pandas~=1.0; python_full_version > \"3.6.0\" in c:\\users\\lszab\\anaconda3\\lib\\site-packages (from aitoai==0.4.0) (1.0.1)\nRequirement already satisfied: requests~=2.22 in c:\\users\\lszab\\anaconda3\\lib\\site-packages (from aitoai==0.4.0) (2.24.0)\nRequirement already satisfied: xlrd~=1.1 in c:\\users\\lszab\\anaconda3\\lib\\site-packages (from aitoai==0.4.0) (1.2.0)\nRequirement already satisfied: aiohttp~=3.4; python_version < \"3.8\" in c:\\users\\lszab\\anaconda3\\lib\\site-packages (from aitoai==0.4.0) (3.7.2)\nRequirement already satisfied: jsonschema~=3.0 in c:\\users\\lszab\\anaconda3\\lib\\site-packages (from aitoai==0.4.0) (3.2.0)\nRequirement already satisfied: langdetect<2.0,>=1.0.7 in c:\\users\\lszab\\anaconda3\\lib\\site-packages (from aitoai==0.4.0) (1.0.8)\nRequirement already satisfied: ndjson>=0.2.0 in c:\\users\\lszab\\anaconda3\\lib\\site-packages (from aitoai==0.4.0) (0.3.1)\nRequirement already satisfied: importlib-metadata<3,>=0.23; python_version == \"3.7\" in c:\\users\\lszab\\anaconda3\\lib\\site-packages (from argcomplete<2.0,>=1.11.1->aitoai==0.4.0) (1.7.0)\nRequirement already satisfied: numpy>=1.13.3 in c:\\users\\lszab\\anaconda3\\lib\\site-packages (from pandas~=1.0; python_full_version > \"3.6.0\"->aitoai==0.4.0) (1.19.1)\nRequirement already satisfied: python-dateutil>=2.6.1 in c:\\users\\lszab\\anaconda3\\lib\\site-packages (from pandas~=1.0; python_full_version > \"3.6.0\"->aitoai==0.4.0) (2.8.1)\nRequirement already satisfied: pytz>=2017.2 in c:\\users\\lszab\\anaconda3\\lib\\site-packages (from pandas~=1.0; python_full_version > \"3.6.0\"->aitoai==0.4.0) (2020.1)\nRequirement already satisfied: certifi>=2017.4.17 in c:\\users\\lszab\\anaconda3\\lib\\site-packages (from requests~=2.22->aitoai==0.4.0) (2020.6.20)\nRequirement already satisfied: chardet<4,>=3.0.2 in c:\\users\\lszab\\anaconda3\\lib\\site-packages (from requests~=2.22->aitoai==0.4.0) (3.0.4)\nRequirement already satisfied: urllib3!=1.25.0,!=1.25.1,<1.26,>=1.21.1 in c:\\users\\lszab\\anaconda3\\lib\\site-packages (from requests~=2.22->aitoai==0.4.0) (1.25.10)\nRequirement already satisfied: idna<3,>=2.5 in c:\\users\\lszab\\anaconda3\\lib\\site-packages (from requests~=2.22->aitoai==0.4.0) (2.10)\nRequirement already satisfied: typing-extensions>=3.6.5 in c:\\users\\lszab\\anaconda3\\lib\\site-packages (from aiohttp~=3.4; python_version < \"3.8\"->aitoai==0.4.0) (3.7.4.3)\nRequirement already satisfied: attrs>=17.3.0 in c:\\users\\lszab\\anaconda3\\lib\\site-packages (from aiohttp~=3.4; python_version < \"3.8\"->aitoai==0.4.0) (20.2.0)\nRequirement already satisfied: async-timeout<4.0,>=3.0 in c:\\users\\lszab\\anaconda3\\lib\\site-packages (from aiohttp~=3.4; python_version < \"3.8\"->aitoai==0.4.0) (3.0.1)\nRequirement already satisfied: yarl<2.0,>=1.0 in c:\\users\\lszab\\anaconda3\\lib\\site-packages (from aiohttp~=3.4; python_version < \"3.8\"->aitoai==0.4.0) (1.6.2)\nRequirement already satisfied: multidict<7.0,>=4.5 in c:\\users\\lszab\\anaconda3\\lib\\site-packages (from aiohttp~=3.4; python_version < \"3.8\"->aitoai==0.4.0) (5.0.0)\nRequirement already satisfied: six>=1.11.0 in c:\\users\\lszab\\anaconda3\\lib\\site-packages (from jsonschema~=3.0->aitoai==0.4.0) (1.15.0)\nRequirement already satisfied: setuptools in c:\\users\\lszab\\anaconda3\\lib\\site-packages (from jsonschema~=3.0->aitoai==0.4.0) (50.3.0.post20201006)\nRequirement already satisfied: pyrsistent>=0.14.0 in c:\\users\\lszab\\anaconda3\\lib\\site-packages (from jsonschema~=3.0->aitoai==0.4.0) (0.17.3)\nRequirement already satisfied: zipp>=0.5 in c:\\users\\lszab\\anaconda3\\lib\\site-packages (from importlib-metadata<3,>=0.23; python_version == \"3.7\"->argcomplete<2.0,>=1.11.1->aitoai==0.4.0) (3.3.0)\n"
     ]
    }
   ],
   "source": [
    "!pip3 install aitoai==0.4.0"
   ]
  },
  {
   "cell_type": "code",
   "execution_count": 2,
   "metadata": {},
   "outputs": [],
   "source": [
    "import pandas as pd\n",
    "import numpy as np\n",
    "from aito.schema import AitoStringType, AitoTextType, AitoDelimiterAnalyzerSchema, AitoTableSchema, AitoColumnLinkSchema, AitoDatabaseSchema\n",
    "from aito.client import AitoClient\n",
    "import aito.api as aito_api"
   ]
  },
  {
   "source": [
    "Let's define the parameters needed to access the Aito.ai database:"
   ],
   "cell_type": "markdown",
   "metadata": {}
  },
  {
   "cell_type": "code",
   "execution_count": 3,
   "metadata": {},
   "outputs": [],
   "source": [
    "# aito credentials\n",
    "AITO_INSTANCE_URL = 'https://team1junction.aito.app'\n",
    "AITO_API_KEY = 'l9uG4dc5ha7BoqBcgT58S2Z7G7uq75ES9w6scxTM'\n",
    "\n",
    "# define a client to access to the dataset\n",
    "client = AitoClient(instance_url=AITO_INSTANCE_URL, api_key=AITO_API_KEY)"
   ]
  },
  {
   "source": [
    "## Search for places that match an user's criteria\n",
    "\n",
    "Let's assumme that this user like Italian cuisine"
   ],
   "cell_type": "markdown",
   "metadata": {}
  },
  {
   "cell_type": "code",
   "execution_count": 14,
   "metadata": {},
   "outputs": [
    {
     "output_type": "stream",
     "name": "stdout",
     "text": [
      "{\n  \"offset\": 0,\n  \"total\": 28,\n  \"hits\": [\n    {\n      \"address\": \"Urho Kekkosen Katu 1, Kampin kauppakeskus, 00100, Helsinki\",\n      \"cuisine\": \"RESTAURANTS & CAFES;Italian\",\n      \"lat\": \"60.16955184936523\",\n      \"lon\": \"24.93374443054199\",\n      \"name\": \"Don Corleone\",\n      \"placeID\": 132854,\n      \"url\": \"https://doncorleone.fi/\"\n    },\n    {\n      \"address\": \"Bulevardi 2-4, 00120, Helsinki\",\n      \"cuisine\": \"RESTAURANTS & CAFES;Bistro;Italian\",\n      \"lat\": \"60.1662483215332\",\n      \"lon\": \"24.94289970397949\",\n      \"name\": \"Toscanini\",\n      \"placeID\": 1469,\n      \"url\": \"https://www.toscanini.fi/\"\n    },\n    {\n      \"address\": \"Mikonkatu 15, 00100, Helsinki\",\n      \"cuisine\": \"RESTAURANTS & CAFES;Italian;Pizza\",\n      \"lat\": \"60.17094039916992\",\n      \"lon\": \"24.9455623626709\",\n      \"name\": \"Vapiano\",\n      \"placeID\": 135059,\n      \"url\": \"http://www.vapiano.fi\"\n    },\n    {\n      \"address\": \"Unioninkatu 18, 00130, Helsinki\",\n      \"cuisine\": \"RESTAURANTS & CAFES;Italian\",\n      \"lat\": \"60.16543960571289\",\n      \"lon\": \"24.95107460021973\",\n      \"name\": \"Restaurant Toca\",\n      \"placeID\": 2266,\n      \"url\": \"https://www.toca.fi/\"\n    },\n    {\n      \"address\": \"Etel\\u00e4esplanadi 20, 00130, Helsinki\",\n      \"cuisine\": \"Spanish;RESTAURANTS & CAFES;Lunch;French;Italian\",\n      \"lat\": \"60.16701126098633\",\n      \"lon\": \"24.945566177368164\",\n      \"name\": \"Bronda\",\n      \"placeID\": 2344,\n      \"url\": \"https://www.ravintolabronda.fi/\"\n    },\n    {\n      \"address\": \"Yrj\\u00f6nkatu 18 B, 00120, Helsinki\",\n      \"cuisine\": \"RESTAURANTS & CAFES;Italian;Pizza\",\n      \"lat\": \"60.16567611694336\",\n      \"lon\": \"24.94186210632324\",\n      \"name\": \"Pjazza\",\n      \"placeID\": 135053,\n      \"url\": \"http://pjazza.fi/\"\n    },\n    {\n      \"address\": \"Sofiankatu 4, 00170, Helsinki\",\n      \"cuisine\": \"RESTAURANTS & CAFES;Italian;Pizza\",\n      \"lat\": \"60.16850662231445\",\n      \"lon\": \"24.95199012756348\",\n      \"name\": \"Via Tribunali\",\n      \"placeID\": 2801,\n      \"url\": \"http://www.viatribunali.fi\"\n    },\n    {\n      \"address\": \"Pohjoisesplanadi 9, 00100, Helsinki\",\n      \"cuisine\": \"RESTAURANTS & CAFES;Italian;Pizza\",\n      \"lat\": \"60.16806411743164\",\n      \"lon\": \"24.95373916625977\",\n      \"name\": \"Ristorante Vaelsa\",\n      \"placeID\": 2809,\n      \"url\": \"https://vaelsa.fi/\"\n    },\n    {\n      \"address\": \"Siltavoudintie 9, 00640, Helsinki\",\n      \"cuisine\": \"RESTAURANTS & CAFES;Italian;Pizza\",\n      \"lat\": \"60.23126220703125\",\n      \"lon\": \"24.96816825866699\",\n      \"name\": \"Capperi Oulunkyl\\u00e4\",\n      \"placeID\": 135108,\n      \"url\": \"https://capperi.fi/oulunkyla/\"\n    },\n    {\n      \"address\": \"Museokatu 18, 00100, Helsinki\",\n      \"cuisine\": \"RESTAURANTS & CAFES;Italian\",\n      \"lat\": \"60.17468643188477\",\n      \"lon\": \"24.92779541015625\",\n      \"name\": \"Coma\",\n      \"placeID\": 135050,\n      \"url\": \"http://coma.fi/\"\n    }\n  ]\n}\n"
     ]
    },
    {
     "output_type": "execute_result",
     "data": {
      "text/plain": [
       "10"
      ]
     },
     "metadata": {},
     "execution_count": 14
    }
   ],
   "source": [
    "# query definition\n",
    "query = {\n",
    "    \"from\": \"places\",\n",
    "    \"where\" : {\n",
    "        \"cuisine\" : {\n",
    "            \"$match\" : \"Italian\" \n",
    "        }\n",
    "    }\n",
    "}\n",
    "\n",
    "# send the query\n",
    "res = aito_api.generic_query(client=client, query=query)\n",
    "print(res.to_json_string(indent=2))"
   ]
  },
  {
   "source": [
    "## We try to predict the top 10 resturant preferences of a group of users"
   ],
   "cell_type": "markdown",
   "metadata": {}
  },
  {
   "cell_type": "code",
   "execution_count": 23,
   "metadata": {},
   "outputs": [
    {
     "output_type": "execute_result",
     "data": {
      "text/plain": [
       "{'offset': 0,\n",
       " 'total': 644,\n",
       " 'hits': [{'$p': 0.8211266897082656,\n",
       "   'address': 'Annankatu 26, 00100, Helsinki',\n",
       "   'cuisine': 'RESTAURANTS & CAFES;Asian;Chinese',\n",
       "   'lat': '60.16724014282226',\n",
       "   'lon': '24.93623924255371',\n",
       "   'name': 'Long Wall',\n",
       "   'placeID': 134986,\n",
       "   'url': 'https://www.longwall.org/'},\n",
       "  {'$p': 0.7471362224502227,\n",
       "   'address': 'Työpajankatu 2a R3, Teurastamo, 00580, Helsinki',\n",
       "   'cuisine': 'Finnish;RESTAURANTS & CAFES',\n",
       "   'lat': '60.1900749206543',\n",
       "   'lon': '24.97002410888672',\n",
       "   'name': 'Tislaamo - Distillery Bar',\n",
       "   'placeID': 135034,\n",
       "   'url': 'https://hdco.fi/tislaamo-distillery-bar/'},\n",
       "  {'$p': 0.7035453189550154,\n",
       "   'address': 'Museokatu 46, 00100, Helsinki',\n",
       "   'cuisine': 'RESTAURANTS & CAFES;Brunch;Italian',\n",
       "   'lat': '60.17512893676758',\n",
       "   'lon': '24.919076919555664',\n",
       "   'name': 'Buongiorno caffe',\n",
       "   'placeID': 135045,\n",
       "   'url': 'https://www.facebook.com/buongiorno.kahvila/'},\n",
       "  {'$p': 0.6855373944942393,\n",
       "   'address': 'Puustellinpolku 8, 00410, Helsinki',\n",
       "   'cuisine': 'RESTAURANTS & CAFES;Pub',\n",
       "   'lat': '60.24647903442383',\n",
       "   'lon': '24.861196517944336',\n",
       "   'name': 'Ravintola Willihanhi',\n",
       "   'placeID': 132955,\n",
       "   'url': 'http://www.willihanhi.fi/'},\n",
       "  {'$p': 0.6622717342514921,\n",
       "   'address': 'Lainlukijantie 12, 00690, Helsinki',\n",
       "   'cuisine': 'RESTAURANTS & CAFES',\n",
       "   'lat': '60.260108947753906',\n",
       "   'lon': '24.95541763305664',\n",
       "   'name': 'Kulma - keittö & baari',\n",
       "   'placeID': 135075,\n",
       "   'url': 'https://kulmakeittio.fi/'},\n",
       "  {'$p': 0.6613677038732684,\n",
       "   'address': 'Lapinrinne 2E, 00180, Helsinki',\n",
       "   'cuisine': 'RESTAURANTS & CAFES;Asian;Vietnamese',\n",
       "   'lat': '60.16633987426758',\n",
       "   'lon': '24.926624298095703',\n",
       "   'name': 'Mekong restaurant',\n",
       "   'placeID': 135055,\n",
       "   'url': 'https://mekong.restaurant/'},\n",
       "  {'$p': 0.6410875388018497,\n",
       "   'address': 'Mikonkatu 15, 00100, Helsinki',\n",
       "   'cuisine': 'RESTAURANTS & CAFES;Italian;Pizza',\n",
       "   'lat': '60.17094039916992',\n",
       "   'lon': '24.9455623626709',\n",
       "   'name': 'Vapiano',\n",
       "   'placeID': 135059,\n",
       "   'url': 'http://www.vapiano.fi'},\n",
       "  {'$p': 0.638220294138135,\n",
       "   'address': 'Puotilantie 7, 00910, Helsinki',\n",
       "   'cuisine': 'Finnish;RESTAURANTS & CAFES;Lunch;Brunch',\n",
       "   'lat': '60.21191024780274',\n",
       "   'lon': '25.107107162475586',\n",
       "   'name': 'Puotilan kartano',\n",
       "   'placeID': 135025,\n",
       "   'url': 'https://www.puotilankartano.fi/'},\n",
       "  {'$p': 0.6224673012292609,\n",
       "   'address': 'Messeniuksenkatu 7, 00250, Helsinki',\n",
       "   'cuisine': 'RESTAURANTS & CAFES;Finnish;International',\n",
       "   'lat': '60.18815994262695',\n",
       "   'lon': '24.91481971740723',\n",
       "   'name': 'Restaurant Messenius',\n",
       "   'placeID': 132922,\n",
       "   'url': 'https://www.messenius.fi/'},\n",
       "  {'$p': 0.5961265106501095,\n",
       "   'address': 'Kluuvikatu 4, 00100, Helsinki',\n",
       "   'cuisine': 'RESTAURANTS & CAFES',\n",
       "   'lat': '60.168678283691406',\n",
       "   'lon': '24.947275161743164',\n",
       "   'name': 'The TRAY',\n",
       "   'placeID': 132755,\n",
       "   'url': 'https://www.glohotels.fi/hotellit/glo-kluuvi/ravintola'}]}"
      ]
     },
     "metadata": {},
     "execution_count": 23
    }
   ],
   "source": [
    "# query\n",
    "rec_query = {\n",
    "    \"from\": \"ratings\",\n",
    "    \"where\": {\n",
    "        \"userID\": {\n",
    "            \"$or\": [\n",
    "                {\"userID\": \"U1022\"},\n",
    "                {\"userID\": \"U1026\"},\n",
    "                {\"userID\": \"U1024\"},\n",
    "                {\"userID\": \"U1025\"},\n",
    "            ]\n",
    "        }\n",
    "    },\n",
    "    \"recommend\": \"placeID\",\n",
    "    \"goal\" : {\"rating\" : 2},\n",
    "    \"limit\": 10,\n",
    "}\n",
    "\n",
    "# send query\n",
    "res = aito_api.recommend(client=client, query=rec_query)\n",
    "res.json"
   ]
  },
  {
   "source": [
    "## Retrieve the names of the 10 restaurants"
   ],
   "cell_type": "markdown",
   "metadata": {}
  },
  {
   "cell_type": "code",
   "execution_count": 26,
   "metadata": {},
   "outputs": [
    {
     "output_type": "execute_result",
     "data": {
      "text/plain": [
       "['Long Wall',\n",
       " 'Tislaamo - Distillery Bar',\n",
       " 'Buongiorno caffe',\n",
       " 'Ravintola Willihanhi',\n",
       " 'Kulma - keittö & baari',\n",
       " 'Mekong restaurant',\n",
       " 'Vapiano',\n",
       " 'Puotilan kartano',\n",
       " 'Restaurant Messenius',\n",
       " 'The TRAY']"
      ]
     },
     "metadata": {},
     "execution_count": 26
    }
   ],
   "source": [
    "hits = res.json['hits']\n",
    "names = []\n",
    "for h in hits:\n",
    "    names.append(h[\"name\"])\n",
    "names"
   ]
  }
 ]
}